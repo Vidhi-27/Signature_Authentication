{
  "cells": [
    {
      "cell_type": "code",
      "execution_count": null,
      "metadata": {
        "id": "0cqlsfaVZ0XF"
      },
      "outputs": [],
      "source": [
        "import numpy as np\n",
        "import pandas as pd\n",
        "import matplotlib.pyplot as plt\n",
        "import cv2\n",
        "import os\n",
        "import PIL\n",
        "from sklearn.model_selection import train_test_split\n",
        "import tensorflow as tf\n",
        "from tensorflow.keras.layers import Conv2D, MaxPooling2D, Dense, Flatten, Dropout\n",
        "from tensorflow.keras.models import Sequential\n",
        "from tensorflow.keras.preprocessing.image import ImageDataGenerator"
      ]
    },
    {
      "cell_type": "code",
      "execution_count": null,
      "metadata": {
        "id": "FlowmYqWZ6Ag"
      },
      "outputs": [],
      "source": [
        "real_path = '/content/real'\n",
        "forge_path = '/content/forge'\n",
        "\n",
        "real_images = []\n",
        "for img_name in os.listdir(real_path):\n",
        "    img = cv2.imread(os.path.join(real_path, img_name), cv2.IMREAD_GRAYSCALE)\n",
        "    real_images.append(img)\n",
        "real_images = np.array(real_images, dtype=object)\n",
        "\n",
        "forge_images = []\n",
        "for img_name in os.listdir(forge_path):\n",
        "    img = cv2.imread(os.path.join(forge_path, img_name), cv2.IMREAD_GRAYSCALE)\n",
        "    forge_images.append(img)\n",
        "forge_images = np.array(forge_images, dtype=object)"
      ]
    },
    {
      "cell_type": "code",
      "execution_count": null,
      "metadata": {
        "id": "a4MFMMSHaI-m"
      },
      "outputs": [],
      "source": [
        "real_labels = np.zeros(real_images.shape[0])\n",
        "forge_labels = np.ones(forge_images.shape[0])\n",
        "\n",
        "X = np.concatenate((real_images, forge_images), axis=0)\n",
        "y = np.concatenate((real_labels, forge_labels), axis=0)\n",
        "\n",
        "X_train, X_test, y_train, y_test = train_test_split(X, y, test_size=0.2, random_state=42)"
      ]
    },
    {
      "cell_type": "code",
      "execution_count": null,
      "metadata": {
        "id": "-SiOGtMbdz4D"
      },
      "outputs": [],
      "source": [
        "import cv2\n",
        "import numpy as np\n",
        "\n",
        "# load the dataset\n",
        "real_path = 'real'\n",
        "forge_path = 'forge'\n",
        "\n",
        "# set the image size to 128x128\n",
        "img_size = (128, 128)\n",
        "\n",
        "real_images = []\n",
        "for img_name in os.listdir(real_path):\n",
        "    img = cv2.imread(os.path.join(real_path, img_name), cv2.IMREAD_GRAYSCALE)\n",
        "    img = cv2.resize(img, img_size)\n",
        "    real_images.append(img)\n",
        "real_images = np.array(real_images)\n",
        "\n",
        "forge_images = []\n",
        "for img_name in os.listdir(forge_path):\n",
        "    img = cv2.imread(os.path.join(forge_path, img_name), cv2.IMREAD_GRAYSCALE)\n",
        "    img = cv2.resize(img, img_size)\n",
        "    forge_images.append(img)\n",
        "forge_images = np.array(forge_images)\n",
        "\n",
        "# normalize the data\n",
        "real_images = real_images.astype('float32') / 255.0\n",
        "forge_images = forge_images.astype('float32') / 255.0"
      ]
    },
    {
      "cell_type": "code",
      "execution_count": null,
      "metadata": {
        "id": "-iKcQwZHh482"
      },
      "outputs": [],
      "source": [
        "import numpy as np\n",
        "\n",
        "num_real_images = len(real_images)\n",
        "num_forge_images = len(forge_images)\n",
        "\n",
        "# Create labels for the real and forged signatures\n",
        "real_labels = np.zeros(num_real_images, dtype=int)\n",
        "forge_labels = np.ones(num_forge_images, dtype=int)\n",
        "\n",
        "# Concatenate the real and forged images and labels\n",
        "X = np.concatenate((real_images, forge_images), axis=0)\n",
        "y = np.concatenate((real_labels, forge_labels), axis=0)"
      ]
    },
    {
      "cell_type": "code",
      "execution_count": null,
      "metadata": {
        "id": "_RxK_fJwh8ga",
        "colab": {
          "base_uri": "https://localhost:8080/"
        },
        "outputId": "de02ceba-7847-4a5a-dab7-0c7fcc8b2e76"
      },
      "outputs": [
        {
          "output_type": "stream",
          "name": "stdout",
          "text": [
            "(40, 128, 128, 1)\n"
          ]
        }
      ],
      "source": [
        "import numpy as np\n",
        "\n",
        "# create dummy data\n",
        "X_train = np.random.rand(40, 128, 128)\n",
        "\n",
        "# add another dimension to the array\n",
        "X_train = np.expand_dims(X_train, axis=-1)\n",
        "\n",
        "# reshape the array\n",
        "X_train = X_train.reshape(X_train.shape[0], 128, 128, 1)\n",
        "\n",
        "print(X_train.shape)"
      ]
    },
    {
      "cell_type": "code",
      "execution_count": null,
      "metadata": {
        "id": "uqsCs6wgiAyS",
        "colab": {
          "base_uri": "https://localhost:8080/"
        },
        "outputId": "fdea6674-43d6-4ab1-bfe0-a6145911d754"
      },
      "outputs": [
        {
          "output_type": "stream",
          "name": "stdout",
          "text": [
            "(40, 128, 128, 1)\n"
          ]
        }
      ],
      "source": [
        "import numpy as np\n",
        "\n",
        "# create dummy data\n",
        "X_test = np.random.rand(40, 128, 128)\n",
        "\n",
        "# add another dimension to the array\n",
        "X_test = np.expand_dims(X_test, axis=-1)\n",
        "\n",
        "# reshape the array\n",
        "X_test = X_train.reshape(X_test.shape[0], 128, 128, 1)\n",
        "\n",
        "print(X_train.shape)  # output: (40, 128, 128, 1)"
      ]
    },
    {
      "cell_type": "code",
      "execution_count": null,
      "metadata": {
        "id": "LuSkQwqdiDu3",
        "colab": {
          "base_uri": "https://localhost:8080/"
        },
        "outputId": "767ecd3e-e9c3-4bc1-c5a8-22317f6bd034"
      },
      "outputs": [
        {
          "output_type": "stream",
          "name": "stdout",
          "text": [
            "Model: \"sequential\"\n",
            "_________________________________________________________________\n",
            " Layer (type)                Output Shape              Param #   \n",
            "=================================================================\n",
            " conv2d (Conv2D)             (None, 126, 126, 32)      320       \n",
            "                                                                 \n",
            " max_pooling2d (MaxPooling2  (None, 63, 63, 32)        0         \n",
            " D)                                                              \n",
            "                                                                 \n",
            " conv2d_1 (Conv2D)           (None, 61, 61, 64)        18496     \n",
            "                                                                 \n",
            " max_pooling2d_1 (MaxPoolin  (None, 30, 30, 64)        0         \n",
            " g2D)                                                            \n",
            "                                                                 \n",
            " flatten (Flatten)           (None, 57600)             0         \n",
            "                                                                 \n",
            " dense (Dense)               (None, 128)               7372928   \n",
            "                                                                 \n",
            " dropout (Dropout)           (None, 128)               0         \n",
            "                                                                 \n",
            " dense_1 (Dense)             (None, 1)                 129       \n",
            "                                                                 \n",
            "=================================================================\n",
            "Total params: 7391873 (28.20 MB)\n",
            "Trainable params: 7391873 (28.20 MB)\n",
            "Non-trainable params: 0 (0.00 Byte)\n",
            "_________________________________________________________________\n"
          ]
        }
      ],
      "source": [
        "from tensorflow.keras.models import Sequential\n",
        "from tensorflow.keras.layers import Conv2D, MaxPooling2D, Flatten, Dense, Dropout\n",
        "\n",
        "# Create a Sequential model\n",
        "model = Sequential()\n",
        "\n",
        "# Add a convolutional layer\n",
        "model.add(Conv2D(filters=32, kernel_size=(3,3), activation='relu', input_shape=(128, 128, 1)))\n",
        "\n",
        "# Add a max pooling layer\n",
        "model.add(MaxPooling2D(pool_size=(2,2)))\n",
        "\n",
        "# Add another convolutional layer\n",
        "model.add(Conv2D(filters=64, kernel_size=(3,3), activation='relu'))\n",
        "\n",
        "# Add another max pooling layer\n",
        "model.add(MaxPooling2D(pool_size=(2,2)))\n",
        "\n",
        "# Flatten the output from the convolutional layers\n",
        "model.add(Flatten())\n",
        "\n",
        "# Add a fully connected layer with 128 neurons and a relu activation function\n",
        "model.add(Dense(units=128, activation='relu'))\n",
        "\n",
        "# Add a dropout layer to reduce overfitting\n",
        "model.add(Dropout(rate=0.5))\n",
        "\n",
        "# Add the output layer with a sigmoid activation function\n",
        "model.add(Dense(units=1, activation='sigmoid'))\n",
        "\n",
        "# Print a summary of the model architecture\n",
        "model.summary()"
      ]
    },
    {
      "cell_type": "code",
      "execution_count": null,
      "metadata": {
        "id": "1VgWE2IciH92",
        "colab": {
          "base_uri": "https://localhost:8080/"
        },
        "outputId": "45168fb8-ccc6-40a9-b738-a4b57c9ccaf7"
      },
      "outputs": [
        {
          "output_type": "stream",
          "name": "stdout",
          "text": [
            "Epoch 1/50\n",
            "2/2 [==============================] - 5s 1s/step - loss: 1.7124 - accuracy: 0.5000 - val_loss: 0.9019 - val_accuracy: 0.3000\n",
            "Epoch 2/50\n",
            "2/2 [==============================] - 2s 539ms/step - loss: 1.0891 - accuracy: 0.5250 - val_loss: 0.6645 - val_accuracy: 0.7000\n",
            "Epoch 3/50\n",
            "2/2 [==============================] - 3s 860ms/step - loss: 1.1033 - accuracy: 0.4750 - val_loss: 0.7673 - val_accuracy: 0.3000\n",
            "Epoch 4/50\n",
            "2/2 [==============================] - 3s 669ms/step - loss: 0.7718 - accuracy: 0.5250 - val_loss: 0.8553 - val_accuracy: 0.3000\n",
            "Epoch 5/50\n",
            "2/2 [==============================] - 2s 342ms/step - loss: 0.6997 - accuracy: 0.6250 - val_loss: 0.8231 - val_accuracy: 0.3000\n",
            "Epoch 6/50\n",
            "2/2 [==============================] - 1s 302ms/step - loss: 0.6506 - accuracy: 0.5750 - val_loss: 0.7103 - val_accuracy: 0.4000\n",
            "Epoch 7/50\n",
            "2/2 [==============================] - 1s 277ms/step - loss: 0.6600 - accuracy: 0.5500 - val_loss: 0.6364 - val_accuracy: 0.7000\n",
            "Epoch 8/50\n",
            "2/2 [==============================] - 1s 298ms/step - loss: 0.6802 - accuracy: 0.5250 - val_loss: 0.6897 - val_accuracy: 0.4000\n",
            "Epoch 9/50\n",
            "2/2 [==============================] - 1s 293ms/step - loss: 0.6535 - accuracy: 0.6500 - val_loss: 0.7381 - val_accuracy: 0.3000\n",
            "Epoch 10/50\n",
            "2/2 [==============================] - 1s 283ms/step - loss: 0.6189 - accuracy: 0.7000 - val_loss: 0.7320 - val_accuracy: 0.3000\n",
            "Epoch 11/50\n",
            "2/2 [==============================] - 1s 296ms/step - loss: 0.6213 - accuracy: 0.7500 - val_loss: 0.6568 - val_accuracy: 0.6000\n",
            "Epoch 12/50\n",
            "2/2 [==============================] - 1s 317ms/step - loss: 0.6144 - accuracy: 0.7000 - val_loss: 0.6280 - val_accuracy: 0.7000\n",
            "Epoch 13/50\n",
            "2/2 [==============================] - 1s 313ms/step - loss: 0.5782 - accuracy: 0.7750 - val_loss: 0.6645 - val_accuracy: 0.7000\n",
            "Epoch 14/50\n",
            "2/2 [==============================] - 1s 496ms/step - loss: 0.5016 - accuracy: 0.8750 - val_loss: 0.7116 - val_accuracy: 0.5000\n",
            "Epoch 15/50\n",
            "2/2 [==============================] - 2s 508ms/step - loss: 0.4345 - accuracy: 0.8750 - val_loss: 0.6840 - val_accuracy: 0.4000\n",
            "Epoch 16/50\n",
            "2/2 [==============================] - 2s 512ms/step - loss: 0.4448 - accuracy: 0.8000 - val_loss: 0.5968 - val_accuracy: 0.6000\n",
            "Epoch 17/50\n",
            "2/2 [==============================] - 1s 350ms/step - loss: 0.4767 - accuracy: 0.7750 - val_loss: 0.6575 - val_accuracy: 0.7000\n",
            "Epoch 18/50\n",
            "2/2 [==============================] - 1s 278ms/step - loss: 0.3340 - accuracy: 0.9250 - val_loss: 0.6782 - val_accuracy: 0.5000\n",
            "Epoch 19/50\n",
            "2/2 [==============================] - 1s 302ms/step - loss: 0.3067 - accuracy: 0.8500 - val_loss: 0.6357 - val_accuracy: 0.8000\n",
            "Epoch 20/50\n",
            "2/2 [==============================] - 1s 281ms/step - loss: 0.2951 - accuracy: 0.9250 - val_loss: 0.6407 - val_accuracy: 0.8000\n",
            "Epoch 21/50\n",
            "2/2 [==============================] - 1s 289ms/step - loss: 0.2373 - accuracy: 0.9750 - val_loss: 0.7094 - val_accuracy: 0.8000\n",
            "Epoch 22/50\n",
            "2/2 [==============================] - 1s 286ms/step - loss: 0.2206 - accuracy: 0.9250 - val_loss: 0.7013 - val_accuracy: 0.7000\n",
            "Epoch 23/50\n",
            "2/2 [==============================] - 1s 290ms/step - loss: 0.1582 - accuracy: 1.0000 - val_loss: 0.7928 - val_accuracy: 0.6000\n",
            "Epoch 24/50\n",
            "2/2 [==============================] - 1s 296ms/step - loss: 0.1378 - accuracy: 0.9500 - val_loss: 0.7862 - val_accuracy: 0.6000\n",
            "Epoch 25/50\n",
            "2/2 [==============================] - 1s 315ms/step - loss: 0.1924 - accuracy: 0.9250 - val_loss: 0.8496 - val_accuracy: 0.7000\n",
            "Epoch 26/50\n",
            "2/2 [==============================] - 1s 343ms/step - loss: 0.1252 - accuracy: 0.9750 - val_loss: 0.8801 - val_accuracy: 0.7000\n",
            "Epoch 27/50\n",
            "2/2 [==============================] - 1s 298ms/step - loss: 0.1113 - accuracy: 0.9750 - val_loss: 0.8178 - val_accuracy: 0.8000\n",
            "Epoch 28/50\n",
            "2/2 [==============================] - 1s 535ms/step - loss: 0.0619 - accuracy: 1.0000 - val_loss: 0.8781 - val_accuracy: 0.8000\n",
            "Epoch 29/50\n",
            "2/2 [==============================] - 2s 483ms/step - loss: 0.0663 - accuracy: 0.9750 - val_loss: 0.9082 - val_accuracy: 0.8000\n",
            "Epoch 30/50\n",
            "2/2 [==============================] - 2s 582ms/step - loss: 0.0447 - accuracy: 1.0000 - val_loss: 0.9372 - val_accuracy: 0.8000\n",
            "Epoch 31/50\n",
            "2/2 [==============================] - 1s 288ms/step - loss: 0.0413 - accuracy: 1.0000 - val_loss: 0.9824 - val_accuracy: 0.8000\n",
            "Epoch 32/50\n",
            "2/2 [==============================] - 1s 304ms/step - loss: 0.0290 - accuracy: 1.0000 - val_loss: 1.0382 - val_accuracy: 0.8000\n",
            "Epoch 33/50\n",
            "2/2 [==============================] - 1s 313ms/step - loss: 0.0228 - accuracy: 1.0000 - val_loss: 1.1305 - val_accuracy: 0.8000\n",
            "Epoch 34/50\n",
            "2/2 [==============================] - 1s 285ms/step - loss: 0.0336 - accuracy: 1.0000 - val_loss: 1.2322 - val_accuracy: 0.8000\n",
            "Epoch 35/50\n",
            "2/2 [==============================] - 1s 322ms/step - loss: 0.0216 - accuracy: 1.0000 - val_loss: 1.2876 - val_accuracy: 0.8000\n",
            "Epoch 36/50\n",
            "2/2 [==============================] - 1s 281ms/step - loss: 0.0131 - accuracy: 1.0000 - val_loss: 1.3587 - val_accuracy: 0.8000\n",
            "Epoch 37/50\n",
            "2/2 [==============================] - 1s 311ms/step - loss: 0.0100 - accuracy: 1.0000 - val_loss: 1.4959 - val_accuracy: 0.8000\n",
            "Epoch 38/50\n",
            "2/2 [==============================] - 1s 308ms/step - loss: 0.0282 - accuracy: 1.0000 - val_loss: 1.4206 - val_accuracy: 0.8000\n",
            "Epoch 39/50\n",
            "2/2 [==============================] - 1s 311ms/step - loss: 0.0148 - accuracy: 1.0000 - val_loss: 1.3806 - val_accuracy: 0.8000\n",
            "Epoch 40/50\n",
            "2/2 [==============================] - 1s 299ms/step - loss: 0.0063 - accuracy: 1.0000 - val_loss: 1.5536 - val_accuracy: 0.6000\n",
            "Epoch 41/50\n",
            "2/2 [==============================] - 1s 392ms/step - loss: 0.0278 - accuracy: 1.0000 - val_loss: 1.5664 - val_accuracy: 0.6000\n",
            "Epoch 42/50\n",
            "2/2 [==============================] - 2s 494ms/step - loss: 0.0313 - accuracy: 1.0000 - val_loss: 1.3090 - val_accuracy: 0.8000\n",
            "Epoch 43/50\n",
            "2/2 [==============================] - 2s 499ms/step - loss: 0.0111 - accuracy: 1.0000 - val_loss: 1.2799 - val_accuracy: 0.8000\n",
            "Epoch 44/50\n",
            "2/2 [==============================] - 1s 507ms/step - loss: 0.0149 - accuracy: 1.0000 - val_loss: 1.3027 - val_accuracy: 0.8000\n",
            "Epoch 45/50\n",
            "2/2 [==============================] - 1s 302ms/step - loss: 0.0119 - accuracy: 1.0000 - val_loss: 1.3530 - val_accuracy: 0.8000\n",
            "Epoch 46/50\n",
            "2/2 [==============================] - 1s 341ms/step - loss: 0.0102 - accuracy: 1.0000 - val_loss: 1.4101 - val_accuracy: 0.8000\n",
            "Epoch 47/50\n",
            "2/2 [==============================] - 1s 308ms/step - loss: 0.0107 - accuracy: 1.0000 - val_loss: 1.4923 - val_accuracy: 0.8000\n",
            "Epoch 48/50\n",
            "2/2 [==============================] - 1s 331ms/step - loss: 0.0063 - accuracy: 1.0000 - val_loss: 1.5770 - val_accuracy: 0.8000\n",
            "Epoch 49/50\n",
            "2/2 [==============================] - 1s 311ms/step - loss: 0.0115 - accuracy: 1.0000 - val_loss: 1.6254 - val_accuracy: 0.8000\n",
            "Epoch 50/50\n",
            "2/2 [==============================] - 1s 319ms/step - loss: 0.0179 - accuracy: 1.0000 - val_loss: 1.6349 - val_accuracy: 0.7000\n"
          ]
        }
      ],
      "source": [
        "from sklearn.model_selection import train_test_split\n",
        "X_train, X_test, y_train, y_test = train_test_split(X, y, test_size=0.2, random_state=42)\n",
        "\n",
        "model.compile(optimizer='adam', loss='binary_crossentropy', metrics=['accuracy'])\n",
        "history = model.fit(X_train, y_train, batch_size=32, epochs=50, validation_data=(X_test, y_test))"
      ]
    },
    {
      "cell_type": "code",
      "execution_count": null,
      "metadata": {
        "id": "y3VhCk7MiLmH",
        "colab": {
          "base_uri": "https://localhost:8080/"
        },
        "outputId": "26fee03c-f1dd-4ff9-c4dd-4cbf314483f4"
      },
      "outputs": [
        {
          "output_type": "stream",
          "name": "stdout",
          "text": [
            "1/1 [==============================] - 0s 80ms/step - loss: 1.6349 - accuracy: 0.7000\n",
            "Test accuracy: 0.699999988079071\n",
            "Test loss: 1.6348960399627686\n"
          ]
        }
      ],
      "source": [
        "test_loss, test_acc = model.evaluate(X_test, y_test)\n",
        "print(\"Test accuracy:\", test_acc)\n",
        "print(\"Test loss:\", test_loss)"
      ]
    },
    {
      "cell_type": "code",
      "execution_count": null,
      "metadata": {
        "id": "WoaX3Y1riTP4",
        "colab": {
          "base_uri": "https://localhost:8080/"
        },
        "outputId": "a0b2d2d3-68ec-41f4-e634-5e4eaf195b64"
      },
      "outputs": [
        {
          "output_type": "stream",
          "name": "stdout",
          "text": [
            "1/1 [==============================] - 0s 122ms/step\n",
            "The signature is real.\n"
          ]
        }
      ],
      "source": [
        "# Load a signature imageYou can change the image path and check if it is forged or real\n",
        "img = cv2.imread('real/agh2_1.jpg', cv2.IMREAD_GRAYSCALE)\n",
        "img = cv2.resize(img, (128, 128))\n",
        "img = np.array(img).reshape(1, 128, 128, 1) / 255.0\n",
        "# Predict the class of the signature image\n",
        "prediction = model.predict(img)\n",
        "\n",
        "if prediction < 0.5:\n",
        "    print(\"The signature is real.\")\n",
        "else:\n",
        "    print(\"The signature is forged.\")"
      ]
    },
    {
      "cell_type": "code",
      "execution_count": null,
      "metadata": {
        "id": "9aIWOlmCiUAY",
        "colab": {
          "base_uri": "https://localhost:8080/"
        },
        "outputId": "70568b0b-abd8-444f-b316-8d894f472af7"
      },
      "outputs": [
        {
          "output_type": "stream",
          "name": "stderr",
          "text": [
            "<ipython-input-12-c06f22c5da9c>:1: UserWarning: You are saving your model as an HDF5 file via `model.save()`. This file format is considered legacy. We recommend using instead the native Keras format, e.g. `model.save('my_model.keras')`.\n",
            "  tf.keras.models.save_model(model,'my_model3.hdf5')\n"
          ]
        }
      ],
      "source": [
        "tf.keras.models.save_model(model,'my_model3.hdf5')"
      ]
    },
    {
      "cell_type": "code",
      "execution_count": null,
      "metadata": {
        "id": "nYK2EVW6lMS_",
        "colab": {
          "base_uri": "https://localhost:8080/"
        },
        "outputId": "299831d7-b5aa-4569-b6d9-d2354526925f"
      },
      "outputs": [
        {
          "output_type": "stream",
          "name": "stdout",
          "text": [
            "Collecting streamlit\n",
            "  Downloading streamlit-1.28.2-py2.py3-none-any.whl (8.4 MB)\n",
            "\u001b[2K     \u001b[90m━━━━━━━━━━━━━━━━━━━━━━━━━━━━━━━━━━━━━━━━\u001b[0m \u001b[32m8.4/8.4 MB\u001b[0m \u001b[31m44.2 MB/s\u001b[0m eta \u001b[36m0:00:00\u001b[0m\n",
            "\u001b[?25hRequirement already satisfied: altair<6,>=4.0 in /usr/local/lib/python3.10/dist-packages (from streamlit) (4.2.2)\n",
            "Requirement already satisfied: blinker<2,>=1.0.0 in /usr/lib/python3/dist-packages (from streamlit) (1.4)\n",
            "Requirement already satisfied: cachetools<6,>=4.0 in /usr/local/lib/python3.10/dist-packages (from streamlit) (5.3.2)\n",
            "Requirement already satisfied: click<9,>=7.0 in /usr/local/lib/python3.10/dist-packages (from streamlit) (8.1.7)\n",
            "Requirement already satisfied: importlib-metadata<7,>=1.4 in /usr/local/lib/python3.10/dist-packages (from streamlit) (6.8.0)\n",
            "Requirement already satisfied: numpy<2,>=1.19.3 in /usr/local/lib/python3.10/dist-packages (from streamlit) (1.23.5)\n",
            "Requirement already satisfied: packaging<24,>=16.8 in /usr/local/lib/python3.10/dist-packages (from streamlit) (23.2)\n",
            "Requirement already satisfied: pandas<3,>=1.3.0 in /usr/local/lib/python3.10/dist-packages (from streamlit) (1.5.3)\n",
            "Requirement already satisfied: pillow<11,>=7.1.0 in /usr/local/lib/python3.10/dist-packages (from streamlit) (9.4.0)\n",
            "Requirement already satisfied: protobuf<5,>=3.20 in /usr/local/lib/python3.10/dist-packages (from streamlit) (3.20.3)\n",
            "Requirement already satisfied: pyarrow>=6.0 in /usr/local/lib/python3.10/dist-packages (from streamlit) (9.0.0)\n",
            "Requirement already satisfied: python-dateutil<3,>=2.7.3 in /usr/local/lib/python3.10/dist-packages (from streamlit) (2.8.2)\n",
            "Requirement already satisfied: requests<3,>=2.27 in /usr/local/lib/python3.10/dist-packages (from streamlit) (2.31.0)\n",
            "Requirement already satisfied: rich<14,>=10.14.0 in /usr/local/lib/python3.10/dist-packages (from streamlit) (13.7.0)\n",
            "Requirement already satisfied: tenacity<9,>=8.1.0 in /usr/local/lib/python3.10/dist-packages (from streamlit) (8.2.3)\n",
            "Requirement already satisfied: toml<2,>=0.10.1 in /usr/local/lib/python3.10/dist-packages (from streamlit) (0.10.2)\n",
            "Requirement already satisfied: typing-extensions<5,>=4.3.0 in /usr/local/lib/python3.10/dist-packages (from streamlit) (4.5.0)\n",
            "Requirement already satisfied: tzlocal<6,>=1.1 in /usr/local/lib/python3.10/dist-packages (from streamlit) (5.2)\n",
            "Collecting validators<1,>=0.2 (from streamlit)\n",
            "  Downloading validators-0.22.0-py3-none-any.whl (26 kB)\n",
            "Collecting gitpython!=3.1.19,<4,>=3.0.7 (from streamlit)\n",
            "  Downloading GitPython-3.1.40-py3-none-any.whl (190 kB)\n",
            "\u001b[2K     \u001b[90m━━━━━━━━━━━━━━━━━━━━━━━━━━━━━━━━━━━━━━━━\u001b[0m \u001b[32m190.6/190.6 kB\u001b[0m \u001b[31m22.4 MB/s\u001b[0m eta \u001b[36m0:00:00\u001b[0m\n",
            "\u001b[?25hCollecting pydeck<1,>=0.8.0b4 (from streamlit)\n",
            "  Downloading pydeck-0.8.1b0-py2.py3-none-any.whl (4.8 MB)\n",
            "\u001b[2K     \u001b[90m━━━━━━━━━━━━━━━━━━━━━━━━━━━━━━━━━━━━━━━━\u001b[0m \u001b[32m4.8/4.8 MB\u001b[0m \u001b[31m96.5 MB/s\u001b[0m eta \u001b[36m0:00:00\u001b[0m\n",
            "\u001b[?25hRequirement already satisfied: tornado<7,>=6.0.3 in /usr/local/lib/python3.10/dist-packages (from streamlit) (6.3.2)\n",
            "Collecting watchdog>=2.1.5 (from streamlit)\n",
            "  Downloading watchdog-3.0.0-py3-none-manylinux2014_x86_64.whl (82 kB)\n",
            "\u001b[2K     \u001b[90m━━━━━━━━━━━━━━━━━━━━━━━━━━━━━━━━━━━━━━━━\u001b[0m \u001b[32m82.1/82.1 kB\u001b[0m \u001b[31m9.9 MB/s\u001b[0m eta \u001b[36m0:00:00\u001b[0m\n",
            "\u001b[?25hRequirement already satisfied: entrypoints in /usr/local/lib/python3.10/dist-packages (from altair<6,>=4.0->streamlit) (0.4)\n",
            "Requirement already satisfied: jinja2 in /usr/local/lib/python3.10/dist-packages (from altair<6,>=4.0->streamlit) (3.1.2)\n",
            "Requirement already satisfied: jsonschema>=3.0 in /usr/local/lib/python3.10/dist-packages (from altair<6,>=4.0->streamlit) (4.19.2)\n",
            "Requirement already satisfied: toolz in /usr/local/lib/python3.10/dist-packages (from altair<6,>=4.0->streamlit) (0.12.0)\n",
            "Collecting gitdb<5,>=4.0.1 (from gitpython!=3.1.19,<4,>=3.0.7->streamlit)\n",
            "  Downloading gitdb-4.0.11-py3-none-any.whl (62 kB)\n",
            "\u001b[2K     \u001b[90m━━━━━━━━━━━━━━━━━━━━━━━━━━━━━━━━━━━━━━━━\u001b[0m \u001b[32m62.7/62.7 kB\u001b[0m \u001b[31m8.4 MB/s\u001b[0m eta \u001b[36m0:00:00\u001b[0m\n",
            "\u001b[?25hRequirement already satisfied: zipp>=0.5 in /usr/local/lib/python3.10/dist-packages (from importlib-metadata<7,>=1.4->streamlit) (3.17.0)\n",
            "Requirement already satisfied: pytz>=2020.1 in /usr/local/lib/python3.10/dist-packages (from pandas<3,>=1.3.0->streamlit) (2023.3.post1)\n",
            "Requirement already satisfied: six>=1.5 in /usr/local/lib/python3.10/dist-packages (from python-dateutil<3,>=2.7.3->streamlit) (1.16.0)\n",
            "Requirement already satisfied: charset-normalizer<4,>=2 in /usr/local/lib/python3.10/dist-packages (from requests<3,>=2.27->streamlit) (3.3.2)\n",
            "Requirement already satisfied: idna<4,>=2.5 in /usr/local/lib/python3.10/dist-packages (from requests<3,>=2.27->streamlit) (3.4)\n",
            "Requirement already satisfied: urllib3<3,>=1.21.1 in /usr/local/lib/python3.10/dist-packages (from requests<3,>=2.27->streamlit) (2.0.7)\n",
            "Requirement already satisfied: certifi>=2017.4.17 in /usr/local/lib/python3.10/dist-packages (from requests<3,>=2.27->streamlit) (2023.7.22)\n",
            "Requirement already satisfied: markdown-it-py>=2.2.0 in /usr/local/lib/python3.10/dist-packages (from rich<14,>=10.14.0->streamlit) (3.0.0)\n",
            "Requirement already satisfied: pygments<3.0.0,>=2.13.0 in /usr/local/lib/python3.10/dist-packages (from rich<14,>=10.14.0->streamlit) (2.16.1)\n",
            "Collecting smmap<6,>=3.0.1 (from gitdb<5,>=4.0.1->gitpython!=3.1.19,<4,>=3.0.7->streamlit)\n",
            "  Downloading smmap-5.0.1-py3-none-any.whl (24 kB)\n",
            "Requirement already satisfied: MarkupSafe>=2.0 in /usr/local/lib/python3.10/dist-packages (from jinja2->altair<6,>=4.0->streamlit) (2.1.3)\n",
            "Requirement already satisfied: attrs>=22.2.0 in /usr/local/lib/python3.10/dist-packages (from jsonschema>=3.0->altair<6,>=4.0->streamlit) (23.1.0)\n",
            "Requirement already satisfied: jsonschema-specifications>=2023.03.6 in /usr/local/lib/python3.10/dist-packages (from jsonschema>=3.0->altair<6,>=4.0->streamlit) (2023.11.1)\n",
            "Requirement already satisfied: referencing>=0.28.4 in /usr/local/lib/python3.10/dist-packages (from jsonschema>=3.0->altair<6,>=4.0->streamlit) (0.31.0)\n",
            "Requirement already satisfied: rpds-py>=0.7.1 in /usr/local/lib/python3.10/dist-packages (from jsonschema>=3.0->altair<6,>=4.0->streamlit) (0.13.0)\n",
            "Requirement already satisfied: mdurl~=0.1 in /usr/local/lib/python3.10/dist-packages (from markdown-it-py>=2.2.0->rich<14,>=10.14.0->streamlit) (0.1.2)\n",
            "Installing collected packages: watchdog, validators, smmap, pydeck, gitdb, gitpython, streamlit\n",
            "Successfully installed gitdb-4.0.11 gitpython-3.1.40 pydeck-0.8.1b0 smmap-5.0.1 streamlit-1.28.2 validators-0.22.0 watchdog-3.0.0\n"
          ]
        }
      ],
      "source": []
    },
    {
      "cell_type": "code",
      "execution_count": null,
      "metadata": {
        "id": "hI5H0pKblaZ-"
      },
      "outputs": [],
      "source": []
    },
    {
      "cell_type": "code",
      "execution_count": null,
      "metadata": {
        "id": "BJ4bzAo4lgHi"
      },
      "outputs": [],
      "source": []
    },
    {
      "cell_type": "code",
      "execution_count": null,
      "metadata": {
        "id": "rbEWrnR6A2Iq"
      },
      "outputs": [],
      "source": []
    },
    {
      "cell_type": "code",
      "execution_count": null,
      "metadata": {
        "id": "-tqOXevFOTds"
      },
      "outputs": [],
      "source": []
    },
    {
      "cell_type": "code",
      "execution_count": null,
      "metadata": {
        "id": "k9NpQR45l6CN"
      },
      "outputs": [],
      "source": []
    },
    {
      "cell_type": "code",
      "execution_count": null,
      "metadata": {
        "id": "yJd5A-9dl74I"
      },
      "outputs": [],
      "source": []
    },
    {
      "cell_type": "code",
      "execution_count": null,
      "metadata": {
        "id": "PZ92t-oRlxjr"
      },
      "outputs": [],
      "source": []
    },
    {
      "cell_type": "code",
      "execution_count": null,
      "metadata": {
        "id": "VES8jRJZlpcm"
      },
      "outputs": [],
      "source": []
    },
    {
      "cell_type": "code",
      "execution_count": null,
      "metadata": {
        "id": "w83QhMHrmcUQ"
      },
      "outputs": [],
      "source": []
    },
    {
      "cell_type": "code",
      "execution_count": null,
      "metadata": {
        "id": "ctvHY0bynII4"
      },
      "outputs": [],
      "source": []
    },
    {
      "cell_type": "code",
      "execution_count": null,
      "metadata": {
        "id": "9ex3SkKdF6XE"
      },
      "outputs": [],
      "source": []
    },
    {
      "cell_type": "code",
      "execution_count": null,
      "metadata": {
        "id": "aYejkB26L7MK"
      },
      "outputs": [],
      "source": []
    },
    {
      "cell_type": "code",
      "execution_count": null,
      "metadata": {
        "id": "ngCEMshgMA36"
      },
      "outputs": [],
      "source": []
    },
    {
      "cell_type": "code",
      "execution_count": null,
      "metadata": {
        "id": "k28aH89OMJ5n"
      },
      "outputs": [],
      "source": []
    },
    {
      "cell_type": "code",
      "execution_count": null,
      "metadata": {
        "id": "Kgtdeu0wMMzF"
      },
      "outputs": [],
      "source": []
    },
    {
      "cell_type": "code",
      "execution_count": null,
      "metadata": {
        "id": "7ov3CUMYMh04"
      },
      "outputs": [],
      "source": []
    }
  ],
  "metadata": {
    "colab": {
      "provenance": []
    },
    "kernelspec": {
      "display_name": "Python 3",
      "name": "python3"
    },
    "language_info": {
      "name": "python"
    }
  },
  "nbformat": 4,
  "nbformat_minor": 0
}